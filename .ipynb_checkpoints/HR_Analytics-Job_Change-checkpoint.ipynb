{
 "cells": [
  {
   "cell_type": "markdown",
   "id": "b497ce12-abd2-41f2-b67a-8a88142e2b7f",
   "metadata": {},
   "source": [
    "# Análise de Dados com Linguagem Python - Análise de Dados de RH (Recursos Humanos)"
   ]
  },
  {
   "cell_type": "markdown",
   "id": "ab39bf1d-6b62-456b-a699-e908f596e24d",
   "metadata": {},
   "source": [
    "## Definição do Problema\n",
    "---\n",
    "Uma empresa de consultoria que atua em Big Data e Data Science deseja contratar Cientistas de Dados entre pessoas que obtenham aprovação em alguns cursos ministrados pela empresa.\n",
    "Muitas pessoas se inscrevem para o treinamento. A empresa quer saber quais desses candidatos realmente querem trabalhar para a empresa após o treinamento ou estão apenas fazendo o treinamento para retornarem ao mercado à procura de um novo emprego. O objetivo é contratar os profissionais com perfil adequado, a fim de reduzir o custo e o tempo de contratação, bem como a qualidade do treinamento ou planejamento dos cursos e categorização dos candidatos.\n",
    "Informações relacionadas a dados demográficos, educação e experiência estão disponíveis no conjunto de dados fornecido."
   ]
  },
  {
   "cell_type": "markdown",
   "id": "5e1b2a1f-8059-4b8a-a8fa-5a14f3e0c2c1",
   "metadata": {},
   "source": [
    "## Objetivo\n",
    "---\n",
    "Realizar um extenso trabalho de análise nos dados, compreender como estão organizados, realizar limpeza e transformação dos dados conforme necessário, detectar eventuais padrões e diagnósticos e ao final emitir um parecer com um resumo sobre os dados.\n",
    "\n"
   ]
  },
  {
   "cell_type": "markdown",
   "id": "88e8ce8b-a092-447b-ae8a-55852667bf29",
   "metadata": {},
   "source": [
    "## Fonte dos Dados\n",
    "---\n",
    "![Kaggle](https://miro.medium.com/max/837/1*tI-TWV--K05xbXUgA4Qm1w.png)  \n",
    "Os dados estão disponíveis na plataforma Kaggle acessando o link: [HR Analytics: Job Change of Data Scientists](https://www.kaggle.com/arashnic/hr-analytics-job-change-of-data-scientists/version/1?select=sample_submission.csv)"
   ]
  },
  {
   "cell_type": "markdown",
   "id": "6f8e863c-68f6-434e-b960-90beaa9380cc",
   "metadata": {},
   "source": [
    "## Dicionário de Variáveis\n",
    "---\n",
    "**enrollee_id**: ID única por candidato\n",
    "\n",
    "**city**: Código da cidade\n",
    "\n",
    "**city_ development _index**: Índice de Desenvolvimento da Cidade (escalado)\n",
    "\n",
    "**gender**: Gênero do candidato\n",
    "\n",
    "**relevent_experience**: Experiência relevante do candidato\n",
    "\n",
    "**enrolled_university**: Tipo de curso universitário matriculado, se houver\n",
    "\n",
    "**education_level**: Nível de educação do candidato\n",
    "\n",
    "**major_discipline**:Disciplina principal do candidato\n",
    "\n",
    "**experience**: Experiência total do candidato em anos\n",
    "\n",
    "**company_size**: Número de empregados na empresa atual do candidato\n",
    "\n",
    "**company_type**: Tipo de empregador atual\n",
    "\n",
    "**lastnewjob**: Diferença de anos entre o emprego anterior e o atual\n",
    "\n",
    "**training_hours**: Horas de treinamento completadas\n",
    "\n",
    "**target**: 0 – Não procura mudança de emprego, 1 – Procura mudança de emprego"
   ]
  },
  {
   "cell_type": "markdown",
   "id": "456ed263-6932-40a2-b08d-d86f7dbf3f26",
   "metadata": {},
   "source": [
    "## Instalando e Carregando os Pacotes Python"
   ]
  },
  {
   "cell_type": "code",
   "execution_count": 1,
   "id": "b0938ddd-092d-4401-84a4-b43d5f2bafd9",
   "metadata": {},
   "outputs": [
    {
     "name": "stdout",
     "output_type": "stream",
     "text": [
      "Versão da Linguagem Python usada neste projeto: 3.9.7\n"
     ]
    }
   ],
   "source": [
    "# Versão da Linguagem Python\n",
    "from platform import python_version\n",
    "print('Versão da Linguagem Python usada neste projeto:', python_version())"
   ]
  },
  {
   "cell_type": "code",
   "execution_count": 2,
   "id": "f2969894-c8d2-4a5c-bb74-37dc0d284518",
   "metadata": {},
   "outputs": [],
   "source": [
    "# Instalação de pacotes.\n",
    "\n",
    "# Pacote para auxiliar na criação de mapas de valores ausentes.\n",
    "!pip install -q missingno\n",
    "\n",
    "# Pacote para categorizar variáveis\n",
    "!pip install -q category_encoders\n",
    "\n",
    "# Pacote para criação de gráficos\n",
    "!pip install -q plotly"
   ]
  },
  {
   "cell_type": "code",
   "execution_count": 3,
   "id": "4d001e85-3619-4eb3-84d9-5a8e246ca51e",
   "metadata": {},
   "outputs": [],
   "source": [
    "# Imports \n",
    "\n",
    "# Manipulação de Dados\n",
    "import pandas as pd\n",
    "import numpy as np\n",
    "\n",
    "# Visualização\n",
    "import matplotlib.pyplot as plt\n",
    "import seaborn as sns\n",
    "import plotly.express as px\n",
    "from plotly.subplots import make_subplots\n",
    "import missingno\n",
    "\n",
    "# Estatística\n",
    "import scipy\n",
    "from scipy.stats import normaltest\n",
    "from scipy.stats import chi2_contingency\n",
    "\n",
    "# Engenharia de Atributos\n",
    "from sklearn.pipeline import Pipeline\n",
    "from sklearn.impute import SimpleImputer\n",
    "from sklearn.preprocessing import OneHotEncoder, LabelEncoder, OrdinalEncoder\n",
    "from sklearn.compose import ColumnTransformer\n",
    "import category_encoders as ce\n",
    "\n",
    "# Ignore Warning\n",
    "import sys\n",
    "import warnings\n",
    "if not sys.warnoptions:\n",
    "    warnings.simplefilter(\"ignore\")\n"
   ]
  },
  {
   "cell_type": "markdown",
   "id": "5e548b7b-24a7-4e3a-90f5-365d6aa8926c",
   "metadata": {},
   "source": [
    "## Carregando os Dados"
   ]
  },
  {
   "cell_type": "code",
   "execution_count": 4,
   "id": "a61de263-c5fd-435a-9a92-2ab082fa7c17",
   "metadata": {},
   "outputs": [],
   "source": [
    "# Dataset\n",
    "df = pd.read_csv(\"dataset/aug_train.csv\")"
   ]
  },
  {
   "cell_type": "code",
   "execution_count": 5,
   "id": "a78633b4-e93d-4050-8c72-a121f586a349",
   "metadata": {},
   "outputs": [
    {
     "name": "stdout",
     "output_type": "stream",
     "text": [
      "Número de linhas: 19158 \n",
      "Número de colunas: 14\n"
     ]
    }
   ],
   "source": [
    "# Shape\n",
    "row_n, column_n = df.shape\n",
    "print(f'Número de linhas: {row_n} \\nNúmero de colunas: {column_n}')"
   ]
  },
  {
   "cell_type": "code",
   "execution_count": 6,
   "id": "b2787364-e08b-4cbf-9a5f-2dba5241f643",
   "metadata": {},
   "outputs": [
    {
     "data": {
      "text/plain": [
       "Index(['enrollee_id', 'city', 'city_development_index', 'gender',\n",
       "       'relevent_experience', 'enrolled_university', 'education_level',\n",
       "       'major_discipline', 'experience', 'company_size', 'company_type',\n",
       "       'last_new_job', 'training_hours', 'target'],\n",
       "      dtype='object')"
      ]
     },
     "execution_count": 6,
     "metadata": {},
     "output_type": "execute_result"
    }
   ],
   "source": [
    "# Colunas\n",
    "df.columns"
   ]
  },
  {
   "cell_type": "code",
   "execution_count": 7,
   "id": "9ae29647-9947-4ebd-a9da-adcefa977c3c",
   "metadata": {},
   "outputs": [
    {
     "data": {
      "text/html": [
       "<div>\n",
       "<style scoped>\n",
       "    .dataframe tbody tr th:only-of-type {\n",
       "        vertical-align: middle;\n",
       "    }\n",
       "\n",
       "    .dataframe tbody tr th {\n",
       "        vertical-align: top;\n",
       "    }\n",
       "\n",
       "    .dataframe thead th {\n",
       "        text-align: right;\n",
       "    }\n",
       "</style>\n",
       "<table border=\"1\" class=\"dataframe\">\n",
       "  <thead>\n",
       "    <tr style=\"text-align: right;\">\n",
       "      <th></th>\n",
       "      <th>enrollee_id</th>\n",
       "      <th>city</th>\n",
       "      <th>city_development_index</th>\n",
       "      <th>gender</th>\n",
       "      <th>relevent_experience</th>\n",
       "      <th>enrolled_university</th>\n",
       "      <th>education_level</th>\n",
       "      <th>major_discipline</th>\n",
       "      <th>experience</th>\n",
       "      <th>company_size</th>\n",
       "      <th>company_type</th>\n",
       "      <th>last_new_job</th>\n",
       "      <th>training_hours</th>\n",
       "      <th>target</th>\n",
       "    </tr>\n",
       "  </thead>\n",
       "  <tbody>\n",
       "    <tr>\n",
       "      <th>0</th>\n",
       "      <td>8949</td>\n",
       "      <td>city_103</td>\n",
       "      <td>0.920</td>\n",
       "      <td>Male</td>\n",
       "      <td>Has relevent experience</td>\n",
       "      <td>no_enrollment</td>\n",
       "      <td>Graduate</td>\n",
       "      <td>STEM</td>\n",
       "      <td>&gt;20</td>\n",
       "      <td>NaN</td>\n",
       "      <td>NaN</td>\n",
       "      <td>1</td>\n",
       "      <td>36</td>\n",
       "      <td>1.0</td>\n",
       "    </tr>\n",
       "    <tr>\n",
       "      <th>1</th>\n",
       "      <td>29725</td>\n",
       "      <td>city_40</td>\n",
       "      <td>0.776</td>\n",
       "      <td>Male</td>\n",
       "      <td>No relevent experience</td>\n",
       "      <td>no_enrollment</td>\n",
       "      <td>Graduate</td>\n",
       "      <td>STEM</td>\n",
       "      <td>15</td>\n",
       "      <td>50-99</td>\n",
       "      <td>Pvt Ltd</td>\n",
       "      <td>&gt;4</td>\n",
       "      <td>47</td>\n",
       "      <td>0.0</td>\n",
       "    </tr>\n",
       "    <tr>\n",
       "      <th>2</th>\n",
       "      <td>11561</td>\n",
       "      <td>city_21</td>\n",
       "      <td>0.624</td>\n",
       "      <td>NaN</td>\n",
       "      <td>No relevent experience</td>\n",
       "      <td>Full time course</td>\n",
       "      <td>Graduate</td>\n",
       "      <td>STEM</td>\n",
       "      <td>5</td>\n",
       "      <td>NaN</td>\n",
       "      <td>NaN</td>\n",
       "      <td>never</td>\n",
       "      <td>83</td>\n",
       "      <td>0.0</td>\n",
       "    </tr>\n",
       "    <tr>\n",
       "      <th>3</th>\n",
       "      <td>33241</td>\n",
       "      <td>city_115</td>\n",
       "      <td>0.789</td>\n",
       "      <td>NaN</td>\n",
       "      <td>No relevent experience</td>\n",
       "      <td>NaN</td>\n",
       "      <td>Graduate</td>\n",
       "      <td>Business Degree</td>\n",
       "      <td>&lt;1</td>\n",
       "      <td>NaN</td>\n",
       "      <td>Pvt Ltd</td>\n",
       "      <td>never</td>\n",
       "      <td>52</td>\n",
       "      <td>1.0</td>\n",
       "    </tr>\n",
       "    <tr>\n",
       "      <th>4</th>\n",
       "      <td>666</td>\n",
       "      <td>city_162</td>\n",
       "      <td>0.767</td>\n",
       "      <td>Male</td>\n",
       "      <td>Has relevent experience</td>\n",
       "      <td>no_enrollment</td>\n",
       "      <td>Masters</td>\n",
       "      <td>STEM</td>\n",
       "      <td>&gt;20</td>\n",
       "      <td>50-99</td>\n",
       "      <td>Funded Startup</td>\n",
       "      <td>4</td>\n",
       "      <td>8</td>\n",
       "      <td>0.0</td>\n",
       "    </tr>\n",
       "  </tbody>\n",
       "</table>\n",
       "</div>"
      ],
      "text/plain": [
       "   enrollee_id      city  city_development_index gender  \\\n",
       "0         8949  city_103                   0.920   Male   \n",
       "1        29725   city_40                   0.776   Male   \n",
       "2        11561   city_21                   0.624    NaN   \n",
       "3        33241  city_115                   0.789    NaN   \n",
       "4          666  city_162                   0.767   Male   \n",
       "\n",
       "       relevent_experience enrolled_university education_level  \\\n",
       "0  Has relevent experience       no_enrollment        Graduate   \n",
       "1   No relevent experience       no_enrollment        Graduate   \n",
       "2   No relevent experience    Full time course        Graduate   \n",
       "3   No relevent experience                 NaN        Graduate   \n",
       "4  Has relevent experience       no_enrollment         Masters   \n",
       "\n",
       "  major_discipline experience company_size    company_type last_new_job  \\\n",
       "0             STEM        >20          NaN             NaN            1   \n",
       "1             STEM         15        50-99         Pvt Ltd           >4   \n",
       "2             STEM          5          NaN             NaN        never   \n",
       "3  Business Degree         <1          NaN         Pvt Ltd        never   \n",
       "4             STEM        >20        50-99  Funded Startup            4   \n",
       "\n",
       "   training_hours  target  \n",
       "0              36     1.0  \n",
       "1              47     0.0  \n",
       "2              83     0.0  \n",
       "3              52     1.0  \n",
       "4               8     0.0  "
      ]
     },
     "execution_count": 7,
     "metadata": {},
     "output_type": "execute_result"
    }
   ],
   "source": [
    "# Amostra dos dados\n",
    "df.head()"
   ]
  },
  {
   "cell_type": "code",
   "execution_count": 8,
   "id": "fca7d570-5dad-4efe-b4d4-fefca5fe6bbc",
   "metadata": {},
   "outputs": [
    {
     "name": "stdout",
     "output_type": "stream",
     "text": [
      "<class 'pandas.core.frame.DataFrame'>\n",
      "RangeIndex: 19158 entries, 0 to 19157\n",
      "Data columns (total 14 columns):\n",
      " #   Column                  Non-Null Count  Dtype  \n",
      "---  ------                  --------------  -----  \n",
      " 0   enrollee_id             19158 non-null  int64  \n",
      " 1   city                    19158 non-null  object \n",
      " 2   city_development_index  19158 non-null  float64\n",
      " 3   gender                  14650 non-null  object \n",
      " 4   relevent_experience     19158 non-null  object \n",
      " 5   enrolled_university     18772 non-null  object \n",
      " 6   education_level         18698 non-null  object \n",
      " 7   major_discipline        16345 non-null  object \n",
      " 8   experience              19093 non-null  object \n",
      " 9   company_size            13220 non-null  object \n",
      " 10  company_type            13018 non-null  object \n",
      " 11  last_new_job            18735 non-null  object \n",
      " 12  training_hours          19158 non-null  int64  \n",
      " 13  target                  19158 non-null  float64\n",
      "dtypes: float64(2), int64(2), object(10)\n",
      "memory usage: 2.0+ MB\n"
     ]
    }
   ],
   "source": [
    "# Info de cada variável\n",
    "df.info()"
   ]
  },
  {
   "cell_type": "markdown",
   "id": "30d52a5c-09de-4101-a29a-32f310c824af",
   "metadata": {},
   "source": [
    "## Análise Exploratória dos Dados (EDA)"
   ]
  },
  {
   "cell_type": "code",
   "execution_count": 9,
   "id": "b0dba649-ac26-44e1-bee2-86ddd8152f93",
   "metadata": {},
   "outputs": [
    {
     "data": {
      "text/html": [
       "<div>\n",
       "<style scoped>\n",
       "    .dataframe tbody tr th:only-of-type {\n",
       "        vertical-align: middle;\n",
       "    }\n",
       "\n",
       "    .dataframe tbody tr th {\n",
       "        vertical-align: top;\n",
       "    }\n",
       "\n",
       "    .dataframe thead th {\n",
       "        text-align: right;\n",
       "    }\n",
       "</style>\n",
       "<table border=\"1\" class=\"dataframe\">\n",
       "  <thead>\n",
       "    <tr style=\"text-align: right;\">\n",
       "      <th></th>\n",
       "      <th>city</th>\n",
       "      <th>gender</th>\n",
       "      <th>relevent_experience</th>\n",
       "      <th>enrolled_university</th>\n",
       "      <th>education_level</th>\n",
       "      <th>major_discipline</th>\n",
       "      <th>experience</th>\n",
       "      <th>company_size</th>\n",
       "      <th>company_type</th>\n",
       "      <th>last_new_job</th>\n",
       "    </tr>\n",
       "  </thead>\n",
       "  <tbody>\n",
       "    <tr>\n",
       "      <th>count</th>\n",
       "      <td>19158</td>\n",
       "      <td>14650</td>\n",
       "      <td>19158</td>\n",
       "      <td>18772</td>\n",
       "      <td>18698</td>\n",
       "      <td>16345</td>\n",
       "      <td>19093</td>\n",
       "      <td>13220</td>\n",
       "      <td>13018</td>\n",
       "      <td>18735</td>\n",
       "    </tr>\n",
       "    <tr>\n",
       "      <th>unique</th>\n",
       "      <td>123</td>\n",
       "      <td>3</td>\n",
       "      <td>2</td>\n",
       "      <td>3</td>\n",
       "      <td>5</td>\n",
       "      <td>6</td>\n",
       "      <td>22</td>\n",
       "      <td>8</td>\n",
       "      <td>6</td>\n",
       "      <td>6</td>\n",
       "    </tr>\n",
       "    <tr>\n",
       "      <th>top</th>\n",
       "      <td>city_103</td>\n",
       "      <td>Male</td>\n",
       "      <td>Has relevent experience</td>\n",
       "      <td>no_enrollment</td>\n",
       "      <td>Graduate</td>\n",
       "      <td>STEM</td>\n",
       "      <td>&gt;20</td>\n",
       "      <td>50-99</td>\n",
       "      <td>Pvt Ltd</td>\n",
       "      <td>1</td>\n",
       "    </tr>\n",
       "    <tr>\n",
       "      <th>freq</th>\n",
       "      <td>4355</td>\n",
       "      <td>13221</td>\n",
       "      <td>13792</td>\n",
       "      <td>13817</td>\n",
       "      <td>11598</td>\n",
       "      <td>14492</td>\n",
       "      <td>3286</td>\n",
       "      <td>3083</td>\n",
       "      <td>9817</td>\n",
       "      <td>8040</td>\n",
       "    </tr>\n",
       "  </tbody>\n",
       "</table>\n",
       "</div>"
      ],
      "text/plain": [
       "            city gender      relevent_experience enrolled_university  \\\n",
       "count      19158  14650                    19158               18772   \n",
       "unique       123      3                        2                   3   \n",
       "top     city_103   Male  Has relevent experience       no_enrollment   \n",
       "freq        4355  13221                    13792               13817   \n",
       "\n",
       "       education_level major_discipline experience company_size company_type  \\\n",
       "count            18698            16345      19093        13220        13018   \n",
       "unique               5                6         22            8            6   \n",
       "top           Graduate             STEM        >20        50-99      Pvt Ltd   \n",
       "freq             11598            14492       3286         3083         9817   \n",
       "\n",
       "       last_new_job  \n",
       "count         18735  \n",
       "unique            6  \n",
       "top               1  \n",
       "freq           8040  "
      ]
     },
     "execution_count": 9,
     "metadata": {},
     "output_type": "execute_result"
    }
   ],
   "source": [
    "# Descrevendo os dados não numéricos\n",
    "df.describe(include = object)"
   ]
  },
  {
   "cell_type": "code",
   "execution_count": 10,
   "id": "dabb03b5-9d3f-4f3e-ad16-ec4e9e17c35e",
   "metadata": {},
   "outputs": [
    {
     "data": {
      "text/html": [
       "<div>\n",
       "<style scoped>\n",
       "    .dataframe tbody tr th:only-of-type {\n",
       "        vertical-align: middle;\n",
       "    }\n",
       "\n",
       "    .dataframe tbody tr th {\n",
       "        vertical-align: top;\n",
       "    }\n",
       "\n",
       "    .dataframe thead th {\n",
       "        text-align: right;\n",
       "    }\n",
       "</style>\n",
       "<table border=\"1\" class=\"dataframe\">\n",
       "  <thead>\n",
       "    <tr style=\"text-align: right;\">\n",
       "      <th></th>\n",
       "      <th>city_development_index</th>\n",
       "      <th>training_hours</th>\n",
       "    </tr>\n",
       "  </thead>\n",
       "  <tbody>\n",
       "    <tr>\n",
       "      <th>count</th>\n",
       "      <td>19158.000000</td>\n",
       "      <td>19158.000000</td>\n",
       "    </tr>\n",
       "    <tr>\n",
       "      <th>mean</th>\n",
       "      <td>0.828848</td>\n",
       "      <td>65.366896</td>\n",
       "    </tr>\n",
       "    <tr>\n",
       "      <th>std</th>\n",
       "      <td>0.123362</td>\n",
       "      <td>60.058462</td>\n",
       "    </tr>\n",
       "    <tr>\n",
       "      <th>min</th>\n",
       "      <td>0.448000</td>\n",
       "      <td>1.000000</td>\n",
       "    </tr>\n",
       "    <tr>\n",
       "      <th>25%</th>\n",
       "      <td>0.740000</td>\n",
       "      <td>23.000000</td>\n",
       "    </tr>\n",
       "    <tr>\n",
       "      <th>50%</th>\n",
       "      <td>0.903000</td>\n",
       "      <td>47.000000</td>\n",
       "    </tr>\n",
       "    <tr>\n",
       "      <th>75%</th>\n",
       "      <td>0.920000</td>\n",
       "      <td>88.000000</td>\n",
       "    </tr>\n",
       "    <tr>\n",
       "      <th>max</th>\n",
       "      <td>0.949000</td>\n",
       "      <td>336.000000</td>\n",
       "    </tr>\n",
       "  </tbody>\n",
       "</table>\n",
       "</div>"
      ],
      "text/plain": [
       "       city_development_index  training_hours\n",
       "count            19158.000000    19158.000000\n",
       "mean                 0.828848       65.366896\n",
       "std                  0.123362       60.058462\n",
       "min                  0.448000        1.000000\n",
       "25%                  0.740000       23.000000\n",
       "50%                  0.903000       47.000000\n",
       "75%                  0.920000       88.000000\n",
       "max                  0.949000      336.000000"
      ]
     },
     "execution_count": 10,
     "metadata": {},
     "output_type": "execute_result"
    }
   ],
   "source": [
    "# Descrevendo os dados numéricos\n",
    "df.describe().drop(columns = ['enrollee_id', 'target'])"
   ]
  },
  {
   "cell_type": "markdown",
   "id": "bbad5b69-3170-45d9-ac07-f1e547a15d04",
   "metadata": {},
   "source": [
    " - Em **city_development_index** (CDI), os valores médios são 0,828, mediana 0,903 e desvio padrão 0,123. Significa que a maioria dos candidatos é de cidades bem desenvolvidas.\n",
    " - Em **training_hours**, os valores médios são 65,367, mediana 47 e máx 336. Isso significa que há mais candidatos com poucas horas de treinamento, mas alguns candidatos gastam muito tempo para fazer o treinamento."
   ]
  },
  {
   "cell_type": "code",
   "execution_count": null,
   "id": "022a0a3c-f059-497e-bfdc-34d0de415e16",
   "metadata": {},
   "outputs": [],
   "source": []
  }
 ],
 "metadata": {
  "kernelspec": {
   "display_name": "Python 3 (ipykernel)",
   "language": "python",
   "name": "python3"
  },
  "language_info": {
   "codemirror_mode": {
    "name": "ipython",
    "version": 3
   },
   "file_extension": ".py",
   "mimetype": "text/x-python",
   "name": "python",
   "nbconvert_exporter": "python",
   "pygments_lexer": "ipython3",
   "version": "3.9.7"
  }
 },
 "nbformat": 4,
 "nbformat_minor": 5
}
