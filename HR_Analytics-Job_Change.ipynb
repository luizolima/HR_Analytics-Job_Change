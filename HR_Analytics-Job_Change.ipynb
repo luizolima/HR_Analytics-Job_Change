{
 "cells": [
  {
   "cell_type": "code",
   "execution_count": null,
   "id": "ec0492ad-1c7e-46d8-a34a-233d41450589",
   "metadata": {},
   "outputs": [],
   "source": []
  }
 ],
 "metadata": {
  "kernelspec": {
   "display_name": "Python 3 (ipykernel)",
   "language": "python",
   "name": "python3"
  },
  "language_info": {
   "codemirror_mode": {
    "name": "ipython",
    "version": 3
   },
   "file_extension": ".py",
   "mimetype": "text/x-python",
   "name": "python",
   "nbconvert_exporter": "python",
   "pygments_lexer": "ipython3",
   "version": "3.9.7"
  }
 },
 "nbformat": 4,
 "nbformat_minor": 5
}
